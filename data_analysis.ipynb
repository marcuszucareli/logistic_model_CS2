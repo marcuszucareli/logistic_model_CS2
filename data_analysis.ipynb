{
 "cells": [
  {
   "cell_type": "code",
   "execution_count": 11,
   "metadata": {},
   "outputs": [],
   "source": [
    "import pandas as pd\n",
    "import numpy as np\n",
    "import statsmodels.api as sm\n",
    "import matplotlib.pyplot as plt\n",
    "\n",
    "from sklearn.metrics import confusion_matrix, accuracy_score,\\\n",
    "    ConfusionMatrixDisplay, recall_score, roc_curve, auc"
   ]
  },
  {
   "cell_type": "markdown",
   "metadata": {},
   "source": [
    "# Importing"
   ]
  },
  {
   "cell_type": "code",
   "execution_count": 12,
   "metadata": {},
   "outputs": [
    {
     "data": {
      "text/html": [
       "<div>\n",
       "<style scoped>\n",
       "    .dataframe tbody tr th:only-of-type {\n",
       "        vertical-align: middle;\n",
       "    }\n",
       "\n",
       "    .dataframe tbody tr th {\n",
       "        vertical-align: top;\n",
       "    }\n",
       "\n",
       "    .dataframe thead th {\n",
       "        text-align: right;\n",
       "    }\n",
       "</style>\n",
       "<table border=\"1\" class=\"dataframe\">\n",
       "  <thead>\n",
       "    <tr style=\"text-align: right;\">\n",
       "      <th></th>\n",
       "      <th>round</th>\n",
       "      <th>win_side</th>\n",
       "      <th>equipament_ct</th>\n",
       "      <th>equipament_tr</th>\n",
       "      <th>equipament_ratio</th>\n",
       "      <th>equipament_dif</th>\n",
       "      <th>is_pistol</th>\n",
       "      <th>map_name_Anubis</th>\n",
       "      <th>map_name_Dust2</th>\n",
       "      <th>map_name_Inferno</th>\n",
       "      <th>map_name_Mirage</th>\n",
       "      <th>map_name_Nuke</th>\n",
       "      <th>map_name_Vertigo</th>\n",
       "    </tr>\n",
       "  </thead>\n",
       "  <tbody>\n",
       "    <tr>\n",
       "      <th>0</th>\n",
       "      <td>1</td>\n",
       "      <td>0</td>\n",
       "      <td>4100</td>\n",
       "      <td>4250</td>\n",
       "      <td>0</td>\n",
       "      <td>-150</td>\n",
       "      <td>1</td>\n",
       "      <td>0</td>\n",
       "      <td>0</td>\n",
       "      <td>0</td>\n",
       "      <td>0</td>\n",
       "      <td>1</td>\n",
       "      <td>0</td>\n",
       "    </tr>\n",
       "    <tr>\n",
       "      <th>1</th>\n",
       "      <td>2</td>\n",
       "      <td>0</td>\n",
       "      <td>21700</td>\n",
       "      <td>2000</td>\n",
       "      <td>10</td>\n",
       "      <td>19700</td>\n",
       "      <td>0</td>\n",
       "      <td>0</td>\n",
       "      <td>0</td>\n",
       "      <td>0</td>\n",
       "      <td>0</td>\n",
       "      <td>1</td>\n",
       "      <td>0</td>\n",
       "    </tr>\n",
       "    <tr>\n",
       "      <th>2</th>\n",
       "      <td>3</td>\n",
       "      <td>1</td>\n",
       "      <td>25950</td>\n",
       "      <td>22200</td>\n",
       "      <td>1</td>\n",
       "      <td>3750</td>\n",
       "      <td>0</td>\n",
       "      <td>0</td>\n",
       "      <td>0</td>\n",
       "      <td>0</td>\n",
       "      <td>0</td>\n",
       "      <td>1</td>\n",
       "      <td>0</td>\n",
       "    </tr>\n",
       "    <tr>\n",
       "      <th>3</th>\n",
       "      <td>4</td>\n",
       "      <td>1</td>\n",
       "      <td>22350</td>\n",
       "      <td>24700</td>\n",
       "      <td>0</td>\n",
       "      <td>-2350</td>\n",
       "      <td>0</td>\n",
       "      <td>0</td>\n",
       "      <td>0</td>\n",
       "      <td>0</td>\n",
       "      <td>0</td>\n",
       "      <td>1</td>\n",
       "      <td>0</td>\n",
       "    </tr>\n",
       "    <tr>\n",
       "      <th>4</th>\n",
       "      <td>5</td>\n",
       "      <td>1</td>\n",
       "      <td>3750</td>\n",
       "      <td>25500</td>\n",
       "      <td>0</td>\n",
       "      <td>-21750</td>\n",
       "      <td>0</td>\n",
       "      <td>0</td>\n",
       "      <td>0</td>\n",
       "      <td>0</td>\n",
       "      <td>0</td>\n",
       "      <td>1</td>\n",
       "      <td>0</td>\n",
       "    </tr>\n",
       "    <tr>\n",
       "      <th>...</th>\n",
       "      <td>...</td>\n",
       "      <td>...</td>\n",
       "      <td>...</td>\n",
       "      <td>...</td>\n",
       "      <td>...</td>\n",
       "      <td>...</td>\n",
       "      <td>...</td>\n",
       "      <td>...</td>\n",
       "      <td>...</td>\n",
       "      <td>...</td>\n",
       "      <td>...</td>\n",
       "      <td>...</td>\n",
       "      <td>...</td>\n",
       "    </tr>\n",
       "    <tr>\n",
       "      <th>3913</th>\n",
       "      <td>16</td>\n",
       "      <td>0</td>\n",
       "      <td>29200</td>\n",
       "      <td>25450</td>\n",
       "      <td>1</td>\n",
       "      <td>3750</td>\n",
       "      <td>0</td>\n",
       "      <td>0</td>\n",
       "      <td>1</td>\n",
       "      <td>0</td>\n",
       "      <td>0</td>\n",
       "      <td>0</td>\n",
       "      <td>0</td>\n",
       "    </tr>\n",
       "    <tr>\n",
       "      <th>3914</th>\n",
       "      <td>17</td>\n",
       "      <td>0</td>\n",
       "      <td>33800</td>\n",
       "      <td>18300</td>\n",
       "      <td>1</td>\n",
       "      <td>15500</td>\n",
       "      <td>0</td>\n",
       "      <td>0</td>\n",
       "      <td>1</td>\n",
       "      <td>0</td>\n",
       "      <td>0</td>\n",
       "      <td>0</td>\n",
       "      <td>0</td>\n",
       "    </tr>\n",
       "    <tr>\n",
       "      <th>3915</th>\n",
       "      <td>18</td>\n",
       "      <td>1</td>\n",
       "      <td>33100</td>\n",
       "      <td>21100</td>\n",
       "      <td>1</td>\n",
       "      <td>12000</td>\n",
       "      <td>0</td>\n",
       "      <td>0</td>\n",
       "      <td>1</td>\n",
       "      <td>0</td>\n",
       "      <td>0</td>\n",
       "      <td>0</td>\n",
       "      <td>0</td>\n",
       "    </tr>\n",
       "    <tr>\n",
       "      <th>3916</th>\n",
       "      <td>19</td>\n",
       "      <td>1</td>\n",
       "      <td>28700</td>\n",
       "      <td>22900</td>\n",
       "      <td>1</td>\n",
       "      <td>5800</td>\n",
       "      <td>0</td>\n",
       "      <td>0</td>\n",
       "      <td>1</td>\n",
       "      <td>0</td>\n",
       "      <td>0</td>\n",
       "      <td>0</td>\n",
       "      <td>0</td>\n",
       "    </tr>\n",
       "    <tr>\n",
       "      <th>3917</th>\n",
       "      <td>20</td>\n",
       "      <td>0</td>\n",
       "      <td>13150</td>\n",
       "      <td>26650</td>\n",
       "      <td>0</td>\n",
       "      <td>-13500</td>\n",
       "      <td>0</td>\n",
       "      <td>0</td>\n",
       "      <td>1</td>\n",
       "      <td>0</td>\n",
       "      <td>0</td>\n",
       "      <td>0</td>\n",
       "      <td>0</td>\n",
       "    </tr>\n",
       "  </tbody>\n",
       "</table>\n",
       "<p>3918 rows × 13 columns</p>\n",
       "</div>"
      ],
      "text/plain": [
       "      round  win_side  equipament_ct  equipament_tr  equipament_ratio  \\\n",
       "0         1         0           4100           4250                 0   \n",
       "1         2         0          21700           2000                10   \n",
       "2         3         1          25950          22200                 1   \n",
       "3         4         1          22350          24700                 0   \n",
       "4         5         1           3750          25500                 0   \n",
       "...     ...       ...            ...            ...               ...   \n",
       "3913     16         0          29200          25450                 1   \n",
       "3914     17         0          33800          18300                 1   \n",
       "3915     18         1          33100          21100                 1   \n",
       "3916     19         1          28700          22900                 1   \n",
       "3917     20         0          13150          26650                 0   \n",
       "\n",
       "      equipament_dif  is_pistol  map_name_Anubis  map_name_Dust2  \\\n",
       "0               -150          1                0               0   \n",
       "1              19700          0                0               0   \n",
       "2               3750          0                0               0   \n",
       "3              -2350          0                0               0   \n",
       "4             -21750          0                0               0   \n",
       "...              ...        ...              ...             ...   \n",
       "3913            3750          0                0               1   \n",
       "3914           15500          0                0               1   \n",
       "3915           12000          0                0               1   \n",
       "3916            5800          0                0               1   \n",
       "3917          -13500          0                0               1   \n",
       "\n",
       "      map_name_Inferno  map_name_Mirage  map_name_Nuke  map_name_Vertigo  \n",
       "0                    0                0              1                 0  \n",
       "1                    0                0              1                 0  \n",
       "2                    0                0              1                 0  \n",
       "3                    0                0              1                 0  \n",
       "4                    0                0              1                 0  \n",
       "...                ...              ...            ...               ...  \n",
       "3913                 0                0              0                 0  \n",
       "3914                 0                0              0                 0  \n",
       "3915                 0                0              0                 0  \n",
       "3916                 0                0              0                 0  \n",
       "3917                 0                0              0                 0  \n",
       "\n",
       "[3918 rows x 13 columns]"
      ]
     },
     "execution_count": 12,
     "metadata": {},
     "output_type": "execute_result"
    }
   ],
   "source": [
    "df = pd.read_csv('full_rounds_cleaned.csv', index_col=0)\n",
    "\n",
    "df"
   ]
  },
  {
   "cell_type": "markdown",
   "metadata": {},
   "source": [
    "## Model fit"
   ]
  },
  {
   "cell_type": "code",
   "execution_count": 13,
   "metadata": {},
   "outputs": [],
   "source": [
    "# Define response variable (y) and explanatory variable (x)\n",
    "\n",
    "# y = 0 => CT wins\n",
    "# y = 1 => TR wins\n",
    "y = df['win_side']\n",
    "x = df.drop(['win_side'], axis=1)\n",
    "X = sm.add_constant(x)\n"
   ]
  },
  {
   "cell_type": "code",
   "execution_count": 14,
   "metadata": {},
   "outputs": [
    {
     "name": "stdout",
     "output_type": "stream",
     "text": [
      "Optimization terminated successfully.\n",
      "         Current function value: 0.594687\n",
      "         Iterations 290\n"
     ]
    },
    {
     "data": {
      "text/html": [
       "<table class=\"simpletable\">\n",
       "<caption>Logit Regression Results</caption>\n",
       "<tr>\n",
       "  <th>Dep. Variable:</th>       <td>win_side</td>     <th>  No. Observations:  </th>   <td>  3918</td>  \n",
       "</tr>\n",
       "<tr>\n",
       "  <th>Model:</th>                 <td>Logit</td>      <th>  Df Residuals:      </th>   <td>  3905</td>  \n",
       "</tr>\n",
       "<tr>\n",
       "  <th>Method:</th>                 <td>MLE</td>       <th>  Df Model:          </th>   <td>    12</td>  \n",
       "</tr>\n",
       "<tr>\n",
       "  <th>Date:</th>            <td>Wed, 25 Sep 2024</td> <th>  Pseudo R-squ.:     </th>   <td>0.1413</td>  \n",
       "</tr>\n",
       "<tr>\n",
       "  <th>Time:</th>                <td>13:39:03</td>     <th>  Log-Likelihood:    </th>  <td> -2330.0</td> \n",
       "</tr>\n",
       "<tr>\n",
       "  <th>converged:</th>             <td>True</td>       <th>  LL-Null:           </th>  <td> -2713.5</td> \n",
       "</tr>\n",
       "<tr>\n",
       "  <th>Covariance Type:</th>     <td>nonrobust</td>    <th>  LLR p-value:       </th> <td>2.011e-156</td>\n",
       "</tr>\n",
       "</table>\n",
       "<table class=\"simpletable\">\n",
       "<tr>\n",
       "          <td></td>            <th>coef</th>     <th>std err</th>      <th>z</th>      <th>P>|z|</th>  <th>[0.025</th>    <th>0.975]</th>  \n",
       "</tr>\n",
       "<tr>\n",
       "  <th>const</th>            <td>    1.1240</td> <td>    0.246</td> <td>    4.575</td> <td> 0.000</td> <td>    0.642</td> <td>    1.605</td>\n",
       "</tr>\n",
       "<tr>\n",
       "  <th>round</th>            <td>    0.0058</td> <td>    0.006</td> <td>    0.999</td> <td> 0.318</td> <td>   -0.006</td> <td>    0.017</td>\n",
       "</tr>\n",
       "<tr>\n",
       "  <th>equipament_ct</th>    <td>   -0.0004</td> <td>      nan</td> <td>      nan</td> <td>   nan</td> <td>      nan</td> <td>      nan</td>\n",
       "</tr>\n",
       "<tr>\n",
       "  <th>equipament_tr</th>    <td>    0.0004</td> <td>      nan</td> <td>      nan</td> <td>   nan</td> <td>      nan</td> <td>      nan</td>\n",
       "</tr>\n",
       "<tr>\n",
       "  <th>equipament_ratio</th> <td>   -0.1941</td> <td>    0.034</td> <td>   -5.639</td> <td> 0.000</td> <td>   -0.262</td> <td>   -0.127</td>\n",
       "</tr>\n",
       "<tr>\n",
       "  <th>equipament_dif</th>   <td>    0.0003</td> <td>      nan</td> <td>      nan</td> <td>   nan</td> <td>      nan</td> <td>      nan</td>\n",
       "</tr>\n",
       "<tr>\n",
       "  <th>is_pistol</th>        <td>   -1.0239</td> <td>    0.215</td> <td>   -4.773</td> <td> 0.000</td> <td>   -1.444</td> <td>   -0.603</td>\n",
       "</tr>\n",
       "<tr>\n",
       "  <th>map_name_Anubis</th>  <td>    0.1694</td> <td>    0.117</td> <td>    1.449</td> <td> 0.147</td> <td>   -0.060</td> <td>    0.399</td>\n",
       "</tr>\n",
       "<tr>\n",
       "  <th>map_name_Dust2</th>   <td>   -0.0135</td> <td>    0.129</td> <td>   -0.104</td> <td> 0.917</td> <td>   -0.267</td> <td>    0.240</td>\n",
       "</tr>\n",
       "<tr>\n",
       "  <th>map_name_Inferno</th> <td>    0.0657</td> <td>    0.133</td> <td>    0.494</td> <td> 0.621</td> <td>   -0.195</td> <td>    0.326</td>\n",
       "</tr>\n",
       "<tr>\n",
       "  <th>map_name_Mirage</th>  <td>   -0.1145</td> <td>    0.140</td> <td>   -0.817</td> <td> 0.414</td> <td>   -0.389</td> <td>    0.160</td>\n",
       "</tr>\n",
       "<tr>\n",
       "  <th>map_name_Nuke</th>    <td>   -0.1662</td> <td>    0.113</td> <td>   -1.465</td> <td> 0.143</td> <td>   -0.389</td> <td>    0.056</td>\n",
       "</tr>\n",
       "<tr>\n",
       "  <th>map_name_Vertigo</th> <td>   -0.1645</td> <td>    0.139</td> <td>   -1.181</td> <td> 0.238</td> <td>   -0.437</td> <td>    0.108</td>\n",
       "</tr>\n",
       "</table>"
      ],
      "text/latex": [
       "\\begin{center}\n",
       "\\begin{tabular}{lclc}\n",
       "\\toprule\n",
       "\\textbf{Dep. Variable:}     &    win\\_side     & \\textbf{  No. Observations:  } &     3918    \\\\\n",
       "\\textbf{Model:}             &      Logit       & \\textbf{  Df Residuals:      } &     3905    \\\\\n",
       "\\textbf{Method:}            &       MLE        & \\textbf{  Df Model:          } &       12    \\\\\n",
       "\\textbf{Date:}              & Wed, 25 Sep 2024 & \\textbf{  Pseudo R-squ.:     } &   0.1413    \\\\\n",
       "\\textbf{Time:}              &     13:39:03     & \\textbf{  Log-Likelihood:    } &   -2330.0   \\\\\n",
       "\\textbf{converged:}         &       True       & \\textbf{  LL-Null:           } &   -2713.5   \\\\\n",
       "\\textbf{Covariance Type:}   &    nonrobust     & \\textbf{  LLR p-value:       } & 2.011e-156  \\\\\n",
       "\\bottomrule\n",
       "\\end{tabular}\n",
       "\\begin{tabular}{lcccccc}\n",
       "                            & \\textbf{coef} & \\textbf{std err} & \\textbf{z} & \\textbf{P$> |$z$|$} & \\textbf{[0.025} & \\textbf{0.975]}  \\\\\n",
       "\\midrule\n",
       "\\textbf{const}              &       1.1240  &        0.246     &     4.575  &         0.000        &        0.642    &        1.605     \\\\\n",
       "\\textbf{round}              &       0.0058  &        0.006     &     0.999  &         0.318        &       -0.006    &        0.017     \\\\\n",
       "\\textbf{equipament\\_ct}     &      -0.0004  &          nan     &       nan  &           nan        &          nan    &          nan     \\\\\n",
       "\\textbf{equipament\\_tr}     &       0.0004  &          nan     &       nan  &           nan        &          nan    &          nan     \\\\\n",
       "\\textbf{equipament\\_ratio}  &      -0.1941  &        0.034     &    -5.639  &         0.000        &       -0.262    &       -0.127     \\\\\n",
       "\\textbf{equipament\\_dif}    &       0.0003  &          nan     &       nan  &           nan        &          nan    &          nan     \\\\\n",
       "\\textbf{is\\_pistol}         &      -1.0239  &        0.215     &    -4.773  &         0.000        &       -1.444    &       -0.603     \\\\\n",
       "\\textbf{map\\_name\\_Anubis}  &       0.1694  &        0.117     &     1.449  &         0.147        &       -0.060    &        0.399     \\\\\n",
       "\\textbf{map\\_name\\_Dust2}   &      -0.0135  &        0.129     &    -0.104  &         0.917        &       -0.267    &        0.240     \\\\\n",
       "\\textbf{map\\_name\\_Inferno} &       0.0657  &        0.133     &     0.494  &         0.621        &       -0.195    &        0.326     \\\\\n",
       "\\textbf{map\\_name\\_Mirage}  &      -0.1145  &        0.140     &    -0.817  &         0.414        &       -0.389    &        0.160     \\\\\n",
       "\\textbf{map\\_name\\_Nuke}    &      -0.1662  &        0.113     &    -1.465  &         0.143        &       -0.389    &        0.056     \\\\\n",
       "\\textbf{map\\_name\\_Vertigo} &      -0.1645  &        0.139     &    -1.181  &         0.238        &       -0.437    &        0.108     \\\\\n",
       "\\bottomrule\n",
       "\\end{tabular}\n",
       "%\\caption{Logit Regression Results}\n",
       "\\end{center}"
      ],
      "text/plain": [
       "<class 'statsmodels.iolib.summary.Summary'>\n",
       "\"\"\"\n",
       "                           Logit Regression Results                           \n",
       "==============================================================================\n",
       "Dep. Variable:               win_side   No. Observations:                 3918\n",
       "Model:                          Logit   Df Residuals:                     3905\n",
       "Method:                           MLE   Df Model:                           12\n",
       "Date:                Wed, 25 Sep 2024   Pseudo R-squ.:                  0.1413\n",
       "Time:                        13:39:03   Log-Likelihood:                -2330.0\n",
       "converged:                       True   LL-Null:                       -2713.5\n",
       "Covariance Type:            nonrobust   LLR p-value:                2.011e-156\n",
       "====================================================================================\n",
       "                       coef    std err          z      P>|z|      [0.025      0.975]\n",
       "------------------------------------------------------------------------------------\n",
       "const                1.1240      0.246      4.575      0.000       0.642       1.605\n",
       "round                0.0058      0.006      0.999      0.318      -0.006       0.017\n",
       "equipament_ct       -0.0004        nan        nan        nan         nan         nan\n",
       "equipament_tr        0.0004        nan        nan        nan         nan         nan\n",
       "equipament_ratio    -0.1941      0.034     -5.639      0.000      -0.262      -0.127\n",
       "equipament_dif       0.0003        nan        nan        nan         nan         nan\n",
       "is_pistol           -1.0239      0.215     -4.773      0.000      -1.444      -0.603\n",
       "map_name_Anubis      0.1694      0.117      1.449      0.147      -0.060       0.399\n",
       "map_name_Dust2      -0.0135      0.129     -0.104      0.917      -0.267       0.240\n",
       "map_name_Inferno     0.0657      0.133      0.494      0.621      -0.195       0.326\n",
       "map_name_Mirage     -0.1145      0.140     -0.817      0.414      -0.389       0.160\n",
       "map_name_Nuke       -0.1662      0.113     -1.465      0.143      -0.389       0.056\n",
       "map_name_Vertigo    -0.1645      0.139     -1.181      0.238      -0.437       0.108\n",
       "====================================================================================\n",
       "\"\"\""
      ]
     },
     "execution_count": 14,
     "metadata": {},
     "output_type": "execute_result"
    }
   ],
   "source": [
    "# Fit model and get sumary\n",
    "model = sm.Logit(y, X)\n",
    "results = model.fit(maxiter=1000)\n",
    "summary = results.summary()\n",
    "\n",
    "summary"
   ]
  },
  {
   "cell_type": "markdown",
   "metadata": {},
   "source": [
    "There are many variables that are not contributing for the model according to \n",
    "the their p-values. Let's implement an iteractive solution (backward \n",
    "elimination) to exclude those variables with p-value > 5%."
   ]
  },
  {
   "cell_type": "code",
   "execution_count": 15,
   "metadata": {},
   "outputs": [
    {
     "data": {
      "text/html": [
       "<table class=\"simpletable\">\n",
       "<caption>Logit Regression Results</caption>\n",
       "<tr>\n",
       "  <th>Dep. Variable:</th>       <td>win_side</td>     <th>  No. Observations:  </th>   <td>  3918</td>  \n",
       "</tr>\n",
       "<tr>\n",
       "  <th>Model:</th>                 <td>Logit</td>      <th>  Df Residuals:      </th>   <td>  3912</td>  \n",
       "</tr>\n",
       "<tr>\n",
       "  <th>Method:</th>                 <td>MLE</td>       <th>  Df Model:          </th>   <td>     5</td>  \n",
       "</tr>\n",
       "<tr>\n",
       "  <th>Date:</th>            <td>Wed, 25 Sep 2024</td> <th>  Pseudo R-squ.:     </th>   <td>0.1402</td>  \n",
       "</tr>\n",
       "<tr>\n",
       "  <th>Time:</th>                <td>13:39:04</td>     <th>  Log-Likelihood:    </th>  <td> -2333.0</td> \n",
       "</tr>\n",
       "<tr>\n",
       "  <th>converged:</th>             <td>True</td>       <th>  LL-Null:           </th>  <td> -2713.5</td> \n",
       "</tr>\n",
       "<tr>\n",
       "  <th>Covariance Type:</th>     <td>nonrobust</td>    <th>  LLR p-value:       </th> <td>3.372e-162</td>\n",
       "</tr>\n",
       "</table>\n",
       "<table class=\"simpletable\">\n",
       "<tr>\n",
       "          <td></td>            <th>coef</th>     <th>std err</th>      <th>z</th>      <th>P>|z|</th>  <th>[0.025</th>    <th>0.975]</th>  \n",
       "</tr>\n",
       "<tr>\n",
       "  <th>const</th>            <td>    1.0775</td> <td>    0.234</td> <td>    4.609</td> <td> 0.000</td> <td>    0.619</td> <td>    1.536</td>\n",
       "</tr>\n",
       "<tr>\n",
       "  <th>equipament_tr</th>    <td>-3.356e-05</td> <td> 9.41e-06</td> <td>   -3.566</td> <td> 0.000</td> <td> -5.2e-05</td> <td>-1.51e-05</td>\n",
       "</tr>\n",
       "<tr>\n",
       "  <th>equipament_ratio</th> <td>   -0.1923</td> <td>    0.034</td> <td>   -5.624</td> <td> 0.000</td> <td>   -0.259</td> <td>   -0.125</td>\n",
       "</tr>\n",
       "<tr>\n",
       "  <th>equipament_dif</th>   <td>-7.305e-05</td> <td> 5.06e-06</td> <td>  -14.445</td> <td> 0.000</td> <td> -8.3e-05</td> <td>-6.31e-05</td>\n",
       "</tr>\n",
       "<tr>\n",
       "  <th>is_pistol</th>        <td>   -1.0140</td> <td>    0.214</td> <td>   -4.737</td> <td> 0.000</td> <td>   -1.434</td> <td>   -0.594</td>\n",
       "</tr>\n",
       "<tr>\n",
       "  <th>map_name_Anubis</th>  <td>    0.2372</td> <td>    0.092</td> <td>    2.592</td> <td> 0.010</td> <td>    0.058</td> <td>    0.417</td>\n",
       "</tr>\n",
       "</table>"
      ],
      "text/latex": [
       "\\begin{center}\n",
       "\\begin{tabular}{lclc}\n",
       "\\toprule\n",
       "\\textbf{Dep. Variable:}    &    win\\_side     & \\textbf{  No. Observations:  } &     3918    \\\\\n",
       "\\textbf{Model:}            &      Logit       & \\textbf{  Df Residuals:      } &     3912    \\\\\n",
       "\\textbf{Method:}           &       MLE        & \\textbf{  Df Model:          } &        5    \\\\\n",
       "\\textbf{Date:}             & Wed, 25 Sep 2024 & \\textbf{  Pseudo R-squ.:     } &   0.1402    \\\\\n",
       "\\textbf{Time:}             &     13:39:04     & \\textbf{  Log-Likelihood:    } &   -2333.0   \\\\\n",
       "\\textbf{converged:}        &       True       & \\textbf{  LL-Null:           } &   -2713.5   \\\\\n",
       "\\textbf{Covariance Type:}  &    nonrobust     & \\textbf{  LLR p-value:       } & 3.372e-162  \\\\\n",
       "\\bottomrule\n",
       "\\end{tabular}\n",
       "\\begin{tabular}{lcccccc}\n",
       "                           & \\textbf{coef} & \\textbf{std err} & \\textbf{z} & \\textbf{P$> |$z$|$} & \\textbf{[0.025} & \\textbf{0.975]}  \\\\\n",
       "\\midrule\n",
       "\\textbf{const}             &       1.0775  &        0.234     &     4.609  &         0.000        &        0.619    &        1.536     \\\\\n",
       "\\textbf{equipament\\_tr}    &   -3.356e-05  &     9.41e-06     &    -3.566  &         0.000        &     -5.2e-05    &    -1.51e-05     \\\\\n",
       "\\textbf{equipament\\_ratio} &      -0.1923  &        0.034     &    -5.624  &         0.000        &       -0.259    &       -0.125     \\\\\n",
       "\\textbf{equipament\\_dif}   &   -7.305e-05  &     5.06e-06     &   -14.445  &         0.000        &     -8.3e-05    &    -6.31e-05     \\\\\n",
       "\\textbf{is\\_pistol}        &      -1.0140  &        0.214     &    -4.737  &         0.000        &       -1.434    &       -0.594     \\\\\n",
       "\\textbf{map\\_name\\_Anubis} &       0.2372  &        0.092     &     2.592  &         0.010        &        0.058    &        0.417     \\\\\n",
       "\\bottomrule\n",
       "\\end{tabular}\n",
       "%\\caption{Logit Regression Results}\n",
       "\\end{center}"
      ],
      "text/plain": [
       "<class 'statsmodels.iolib.summary.Summary'>\n",
       "\"\"\"\n",
       "                           Logit Regression Results                           \n",
       "==============================================================================\n",
       "Dep. Variable:               win_side   No. Observations:                 3918\n",
       "Model:                          Logit   Df Residuals:                     3912\n",
       "Method:                           MLE   Df Model:                            5\n",
       "Date:                Wed, 25 Sep 2024   Pseudo R-squ.:                  0.1402\n",
       "Time:                        13:39:04   Log-Likelihood:                -2333.0\n",
       "converged:                       True   LL-Null:                       -2713.5\n",
       "Covariance Type:            nonrobust   LLR p-value:                3.372e-162\n",
       "====================================================================================\n",
       "                       coef    std err          z      P>|z|      [0.025      0.975]\n",
       "------------------------------------------------------------------------------------\n",
       "const                1.0775      0.234      4.609      0.000       0.619       1.536\n",
       "equipament_tr    -3.356e-05   9.41e-06     -3.566      0.000    -5.2e-05   -1.51e-05\n",
       "equipament_ratio    -0.1923      0.034     -5.624      0.000      -0.259      -0.125\n",
       "equipament_dif   -7.305e-05   5.06e-06    -14.445      0.000    -8.3e-05   -6.31e-05\n",
       "is_pistol           -1.0140      0.214     -4.737      0.000      -1.434      -0.594\n",
       "map_name_Anubis      0.2372      0.092      2.592      0.010       0.058       0.417\n",
       "====================================================================================\n",
       "\"\"\""
      ]
     },
     "execution_count": 15,
     "metadata": {},
     "output_type": "execute_result"
    }
   ],
   "source": [
    "def backward_elimination(X, y, p_value_threshold=0.05):\n",
    "    X_with_const = sm.add_constant(X)\n",
    "    model = sm.Logit(y, X_with_const).fit(disp=0, maxiter=1000)\n",
    "    \n",
    "    while True:\n",
    "        p_values = model.pvalues[1:]  # Ignore intercept\n",
    "        max_p_value = p_values.max()\n",
    "        \n",
    "        if max_p_value > p_value_threshold:\n",
    "            excluded_var = p_values.idxmax()\n",
    "            X = X.drop(columns=[excluded_var])\n",
    "            X_with_const = sm.add_constant(X)\n",
    "            model = sm.Logit(y, X_with_const).fit(disp=0, maxiter=1000)\n",
    "        else:\n",
    "            break\n",
    "    \n",
    "    columns = X.columns.to_list()\n",
    "    columns.pop(0)\n",
    "    \n",
    "    return model, columns\n",
    "\n",
    "final_model, columns = backward_elimination(X, y, p_value_threshold=0.05)\n",
    "summary = final_model.summary()\n",
    "\n",
    "summary"
   ]
  },
  {
   "cell_type": "markdown",
   "metadata": {},
   "source": [
    "From the summary, we can notice that the values realted to equipament values\n",
    "are the ones with most significance to the model. Talking about the maps, only\n",
    "Anubis have some influence in the winner of the round."
   ]
  },
  {
   "cell_type": "markdown",
   "metadata": {},
   "source": [
    "# Model Evaluation"
   ]
  },
  {
   "cell_type": "markdown",
   "metadata": {},
   "source": [
    "## Probability"
   ]
  },
  {
   "cell_type": "code",
   "execution_count": 16,
   "metadata": {},
   "outputs": [],
   "source": [
    "x_predictions = sm.add_constant(df[columns])\n",
    "df['probability'] = final_model.predict(x_predictions)"
   ]
  },
  {
   "cell_type": "markdown",
   "metadata": {},
   "source": [
    "## Thresholds "
   ]
  },
  {
   "cell_type": "markdown",
   "metadata": {},
   "source": [
    "To define the thresholds we can try to maximize the **accuracy** of the model\n",
    "since we are not concerned with optimizing the model for either side. Also,\n",
    "there is no penalization for wrong predictions."
   ]
  },
  {
   "cell_type": "code",
   "execution_count": 17,
   "metadata": {},
   "outputs": [
    {
     "name": "stdout",
     "output_type": "stream",
     "text": [
      "best_threshold:  0.49\n",
      "associated accuracy:  0.6454823889739663\n"
     ]
    }
   ],
   "source": [
    "thresholds = np.arange(0.0, 1.0, 0.01)\n",
    "\n",
    "best_threshold = None\n",
    "higher_accuracy = None\n",
    "for threshold in thresholds:\n",
    "    \n",
    "    y_pred = (df['probability'] >= threshold).astype(int)\n",
    "    acc = accuracy_score(df['win_side'], y_pred)\n",
    "    if higher_accuracy == None or acc > higher_accuracy:\n",
    "        best_threshold = threshold\n",
    "        higher_accuracy = acc\n",
    "\n",
    "print('best_threshold: ', best_threshold)\n",
    "print('associated accuracy: ', higher_accuracy)"
   ]
  },
  {
   "cell_type": "markdown",
   "metadata": {},
   "source": [
    "## Prediction and Confusion Matrix "
   ]
  },
  {
   "cell_type": "code",
   "execution_count": 18,
   "metadata": {},
   "outputs": [
    {
     "data": {
      "text/plain": [
       "<sklearn.metrics._plot.confusion_matrix.ConfusionMatrixDisplay at 0x2822ae05a10>"
      ]
     },
     "execution_count": 18,
     "metadata": {},
     "output_type": "execute_result"
    },
    {
     "data": {
      "image/png": "[encoded data removed]",
      "text/plain": [
       "<Figure size 640x480 with 2 Axes>"
      ]
     },
     "metadata": {},
     "output_type": "display_data"
    }
   ],
   "source": [
    "df['prediction'] = (df['probability'] >= best_threshold).astype(int)\n",
    "\n",
    "# Confusion matrix\n",
    "cm = confusion_matrix(df['win_side'], df['prediction'])\n",
    "\n",
    "disp = ConfusionMatrixDisplay(confusion_matrix=cm)\n",
    "disp.plot(cmap='Blues')"
   ]
  },
  {
   "cell_type": "markdown",
   "metadata": {},
   "source": [
    "## Sensitivity Analysis"
   ]
  },
  {
   "cell_type": "code",
   "execution_count": 19,
   "metadata": {},
   "outputs": [
    {
     "name": "stdout",
     "output_type": "stream",
     "text": [
      "sensitivity:  0.5332980972515856\n",
      "specificity:  0.7502467917077986\n",
      "accuracy:  0.6454823889739663\n"
     ]
    }
   ],
   "source": [
    "sensitivity  = recall_score(df['win_side'], df['prediction'], pos_label=1)\n",
    "specificity  = recall_score(df['win_side'], df['prediction'], pos_label=0)\n",
    "accuracy = accuracy_score(df['win_side'], df['prediction'])\n",
    "\n",
    "print('sensitivity: ', sensitivity)\n",
    "print('specificity: ', specificity)\n",
    "print('accuracy: ', accuracy)"
   ]
  },
  {
   "cell_type": "markdown",
   "metadata": {},
   "source": [
    "## ROC Curve"
   ]
  },
  {
   "cell_type": "code",
   "execution_count": 20,
   "metadata": {},
   "outputs": [
    {
     "data": {
      "image/png": "[encoded data removed]",
      "text/plain": [
       "<Figure size 640x480 with 1 Axes>"
      ]
     },
     "metadata": {},
     "output_type": "display_data"
    }
   ],
   "source": [
    "fpr, tpr, thresholds = roc_curve(df['win_side'], df['probability'])\n",
    "roc_auc = auc(fpr, tpr)\n",
    "\n",
    "plt.figure()\n",
    "plt.plot(fpr, tpr, color='blue', label=f'ROC curve (area = {roc_auc:.2f})')\n",
    "plt.plot([0, 1], [0, 1], color='red', linestyle='--')  # Linha de referência\n",
    "plt.xlim([0.0, 1.0])\n",
    "plt.ylim([0.0, 1.05])\n",
    "plt.xlabel('False Positive Rate')\n",
    "plt.ylabel('True Positive Rate')\n",
    "plt.title('Receiver Operating Characteristic (ROC) Curve')\n",
    "plt.legend(loc='lower right')\n",
    "plt.show()"
   ]
  },
  {
   "cell_type": "code",
   "execution_count": 42,
   "metadata": {},
   "outputs": [
    {
     "data": {
      "image/png": "[encoded data removed]",
      "text/plain": [
       "<Figure size 1000x600 with 1 Axes>"
      ]
     },
     "metadata": {},
     "output_type": "display_data"
    }
   ],
   "source": [
    "z_ct = np.linspace(-8, 0, 100)\n",
    "z_tr = np.linspace(0, 8, 100)\n",
    "\n",
    "probability_ct = 1 / (1 + np.exp(-z_ct))\n",
    "probability_tr = 1 / (1 + np.exp(-z_tr))\n",
    "\n",
    "final_model_params= final_model.params\n",
    "\n",
    "df['logit'] = np.dot(x_predictions, final_model_params)\n",
    "\n",
    "df_ct_errors = df[(df['probability'] > .5) & (df['win_side'] == 0)]\n",
    "df_tr_errors = df[(df['probability'] < .5) & (df['win_side'] == 1)]\n",
    "\n",
    "plt.figure(figsize=(10, 6))\n",
    "plt.plot(z_ct, probability_ct, label='CT Sigmoid', color='#0000FF')\n",
    "plt.plot(z_tr, probability_tr, label='TR Sigmoid', color='#FF6100')\n",
    "plt.scatter(df_ct_errors['logit'], df_ct_errors['probability'], color='#005DFF', s=20, label='CTs')\n",
    "plt.scatter(df_tr_errors['logit'], df_tr_errors['probability'], color='#FF6100', s=20, label='TRs')\n",
    "plt.axhline(0.5, color='gray', linestyle='--')\n",
    "plt.axvline(0, color='black', linestyle='--')\n",
    "plt.title('Sigmoide Curve')\n",
    "plt.xlabel('Logit (z)')\n",
    "plt.ylabel('Probabilities P(Y=1)')\n",
    "plt.xlim(-10, 10)\n",
    "plt.ylim(0, 1)\n",
    "plt.xticks(np.arange(-10, 6, 1))\n",
    "plt.yticks(np.arange(0, 1.1, 0.1))\n",
    "plt.grid()\n",
    "plt.legend()\n",
    "plt.show()"
   ]
  }
 ],
 "metadata": {
  "kernelspec": {
   "display_name": ".venv",
   "language": "python",
   "name": "python3"
  },
  "language_info": {
   "codemirror_mode": {
    "name": "ipython",
    "version": 3
   },
   "file_extension": ".py",
   "mimetype": "text/x-python",
   "name": "python",
   "nbconvert_exporter": "python",
   "pygments_lexer": "ipython3",
   "version": "3.11.5"
  }
 },
 "nbformat": 4,
 "nbformat_minor": 2
}
